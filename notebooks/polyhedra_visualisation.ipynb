{
 "cells": [
  {
   "cell_type": "code",
   "execution_count": 1,
   "metadata": {},
   "outputs": [],
   "source": [
    "import numpy as np\n",
    "import pyscal.core as pc\n",
    "import pyscal.crystal_structures as pcs\n",
    "import matplotlib as mpl\n",
    "from mpl_toolkits.mplot3d import Axes3D\n",
    "import matplotlib.pyplot as plt\n",
    "from matplotlib.collections import PolyCollection\n",
    "from matplotlib import colors as mcolors\n",
    "from scipy.spatial import ConvexHull\n",
    "from matplotlib.patches import Polygon"
   ]
  },
  {
   "cell_type": "code",
   "execution_count": 2,
   "metadata": {},
   "outputs": [],
   "source": [
    "%matplotlib widget"
   ]
  },
  {
   "cell_type": "code",
   "execution_count": 3,
   "metadata": {},
   "outputs": [],
   "source": [
    "atoms, box = pcs.make_crystal('fcc', lattice_constant=4, repetitions=[3,3,3])\n",
    "sys = pc.System()\n",
    "sys.atoms = atoms\n",
    "sys.box = box\n",
    "sys.find_neighbors(method='voronoi')\n",
    "sys.calculate_vorovector()"
   ]
  },
  {
   "cell_type": "code",
   "execution_count": 4,
   "metadata": {},
   "outputs": [
    {
     "data": {
      "text/plain": [
       "[0, 12, 0, 0]"
      ]
     },
     "execution_count": 4,
     "metadata": {},
     "output_type": "execute_result"
    }
   ],
   "source": [
    "atoms = sys.atoms\n",
    "atoms[0].vorovector"
   ]
  },
  {
   "cell_type": "code",
   "execution_count": 5,
   "metadata": {},
   "outputs": [],
   "source": [
    "\n",
    "vecs = []\n",
    "atom = atoms[0]\n",
    "allvertexnos = []\n",
    "unq_vnos = np.unique(atom.vertex_numbers)\n",
    "for vno in unq_vnos:\n",
    "    #print(vno)\n",
    "    ipos = atom.vertex_vectors[vno*3:vno*3+3]\n",
    "    #print(len(ipos))\n",
    "    vecs.append(ipos)"
   ]
  },
  {
   "cell_type": "code",
   "execution_count": 6,
   "metadata": {},
   "outputs": [],
   "source": [
    "modvecs = []\n",
    "st = 1\n",
    "for vno in atom.face_vertices:\n",
    "    vphase = atom.vertex_numbers[st:st+vno]\n",
    "    #print(vphase)\n",
    "    dummymodvecs = []\n",
    "    for v in vphase:\n",
    "        dummymodvecs.append(vecs[v])\n",
    "    modvecs.append(dummymodvecs)\n",
    "    st += (vno+1)\n",
    "   "
   ]
  },
  {
   "cell_type": "code",
   "execution_count": 8,
   "metadata": {},
   "outputs": [],
   "source": [
    "atoms, box = pcs.make_crystal('bcc', lattice_constant=4, repetitions=[3,3,3])\n",
    "sys = pc.System()\n",
    "sys.atoms = atoms\n",
    "sys.box = box\n",
    "sys.find_neighbors(method='voronoi')\n",
    "sys.calculate_vorovector()"
   ]
  },
  {
   "cell_type": "code",
   "execution_count": 9,
   "metadata": {},
   "outputs": [
    {
     "data": {
      "text/plain": [
       "[0, 6, 0, 8]"
      ]
     },
     "execution_count": 9,
     "metadata": {},
     "output_type": "execute_result"
    }
   ],
   "source": [
    "atoms = sys.atoms\n",
    "atoms[0].vorovector"
   ]
  },
  {
   "cell_type": "code",
   "execution_count": 10,
   "metadata": {},
   "outputs": [],
   "source": [
    "\n",
    "vecs = []\n",
    "atom = atoms[0]\n",
    "allvertexnos = []\n",
    "unq_vnos = np.unique(atom.vertex_numbers)\n",
    "for vno in unq_vnos:\n",
    "    #print(vno)\n",
    "    ipos = atom.vertex_vectors[vno*3:vno*3+3]\n",
    "    #print(len(ipos))\n",
    "    vecs.append(ipos)"
   ]
  },
  {
   "cell_type": "code",
   "execution_count": 11,
   "metadata": {},
   "outputs": [],
   "source": [
    "modvecs2 = []\n",
    "st = 1\n",
    "for vno in atom.face_vertices:\n",
    "    vphase = atom.vertex_numbers[st:st+vno]\n",
    "    #print(vphase)\n",
    "    dummymodvecs = []\n",
    "    for v in vphase:\n",
    "        dummymodvecs.append(vecs[v])\n",
    "    modvecs2.append(dummymodvecs)\n",
    "    st += (vno+1)\n",
    "   "
   ]
  },
  {
   "cell_type": "code",
   "execution_count": 21,
   "metadata": {
    "scrolled": true
   },
   "outputs": [
    {
     "data": {
      "application/vnd.jupyter.widget-view+json": {
       "model_id": "2be1449cde294dc0bd4e9f67fef3a1d4",
       "version_major": 2,
       "version_minor": 0
      },
      "text/plain": [
       "Canvas(toolbar=Toolbar(toolitems=[('Home', 'Reset original view', 'home', 'home'), ('Back', 'Back to previous …"
      ]
     },
     "metadata": {},
     "output_type": "display_data"
    }
   ],
   "source": [
    "fig = plt.figure(figsize=(18, 18), dpi=80)\n",
    "ax = fig.add_subplot(1,1,1,projection='3d')\n",
    "\n",
    "for pp in modvecs:\n",
    "    ax.scatter(np.array(pp)[:,0], np.array(pp)[:,1], np.array(pp)[:,2], color='#F57F17', s=40)\n",
    "    ax.plot(np.array(pp)[:,0], np.array(pp)[:,1], np.array(pp)[:,2], color='#F57F17', linewidth=2, alpha=0.3)\n",
    "for pp in modvecs2:\n",
    "    ax.scatter(np.array(pp)[:,0], np.array(pp)[:,1], np.array(pp)[:,2], color='#455A64', s=40)\n",
    "    ax.plot(np.array(pp)[:,0], np.array(pp)[:,1], np.array(pp)[:,2], color='#455A64', linewidth=2, alpha=0.3)\n",
    "\n",
    "fig.canvas.layout.width = '700px'\n",
    "fig.canvas.layout.height = '700px'\n",
    "fig.canvas.layout.margin = '0px'\n",
    "#axis fills\n",
    "ax.xaxis.pane.fill = False\n",
    "ax.yaxis.pane.fill = False\n",
    "ax.zaxis.pane.fill = False\n",
    "\n",
    "# Now set color to white (or whatever is \"invisible\")\n",
    "ax.xaxis.pane.set_edgecolor('w')\n",
    "ax.yaxis.pane.set_edgecolor('w')\n",
    "ax.zaxis.pane.set_edgecolor('w')\n",
    "\n",
    "# Bonus: To get rid of the grid as well:\n",
    "ax.grid(False)\n",
    "ax.set_axis_off()\n",
    "#get rid of axis"
   ]
  }
 ],
 "metadata": {
  "kernelspec": {
   "display_name": "Python (myenv)",
   "language": "python",
   "name": "myenv"
  },
  "language_info": {
   "codemirror_mode": {
    "name": "ipython",
    "version": 3
   },
   "file_extension": ".py",
   "mimetype": "text/x-python",
   "name": "python",
   "nbconvert_exporter": "python",
   "pygments_lexer": "ipython3",
   "version": "3.7.4"
  }
 },
 "nbformat": 4,
 "nbformat_minor": 2
}
